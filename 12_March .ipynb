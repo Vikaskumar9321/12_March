{
 "cells": [
  {
   "cell_type": "markdown",
   "id": "4cd0ab9d-144e-4a91-945c-06941781cd48",
   "metadata": {},
   "source": [
    "#Ans.1"
   ]
  },
  {
   "cell_type": "markdown",
   "id": "01e1facb-becf-4a4c-bc58-058b29b7fc23",
   "metadata": {},
   "source": [
    "To calculate the 95% confidence interval for a sample with a mean of 50 and a standard deviation of 5, you can use the formula:\n",
    "CI + x bab +- Z(s/rootn)\n",
    "Where:\n",
    "\n",
    ". x bar is the sample mean (50 in this case).\n",
    "\n",
    ". Z is the critical value for a 95% confidence interval. For a large sample size (typicallyn>30), you can use the Z-score associated with a 95% confidence interval, which is approximately 1.96.\n",
    "\n",
    ". s is the sample standard deviation (5 in this case).\n",
    "\n",
    ". n is the sample size (assumed to be large enough for the Z-score to be valid)."
   ]
  },
  {
   "cell_type": "code",
   "execution_count": 3,
   "id": "65280bd0-79b5-42f9-b72a-a45b49540e74",
   "metadata": {},
   "outputs": [
    {
     "name": "stdout",
     "output_type": "stream",
     "text": [
      "95% Confidence Interval: (48.21, 51.79)\n"
     ]
    }
   ],
   "source": [
    "import scipy.stats as stats\n",
    "import math\n",
    "\n",
    "mean = 50\n",
    "std_dev = 5\n",
    "confidence_level = 0.95\n",
    "sample_size = 30\n",
    "\n",
    "standard_error = std_dev/ math.sqrt(sample_size)\n",
    "margin_of_error = stats.norm.ppf((1 + confidence_level)/2)*standard_error\n",
    "\n",
    "lower_bound = mean - margin_of_error\n",
    "upper_bound = mean + margin_of_error\n",
    "\n",
    "print(f\"95% Confidence Interval: ({lower_bound:.2f}, {upper_bound:.2f})\")"
   ]
  },
  {
   "cell_type": "markdown",
   "id": "8a2622c8-8fd7-4cb9-a8d3-4b5242295358",
   "metadata": {},
   "source": [
    "#Ans.2"
   ]
  },
  {
   "cell_type": "code",
   "execution_count": null,
   "id": "e2053f3b-a331-422d-bb7d-24daba74133f",
   "metadata": {},
   "outputs": [],
   "source": [
    "import numpy as np\n",
    "from scipy.stats import chisquare\n",
    "# Observed frequencies\n",
    "observed = np.array([30, 10, 20, 10, 10, 20])\n",
    "\n",
    "# Expected frequencies\n",
    "expected = np.array([20, 20, 20, 10, 10, 20])\n",
    "\n",
    "# Perform the chi-square goodness of fit test\n",
    "chi2_stat, p_val = chisquare(observed, expected)\n",
    "\n",
    "# Define the significance level\n",
    "alpha = 0.05\n",
    "\n",
    "# Compare p-value to significance level\n",
    "if p_val < alpha:\n",
    "    print(f\"The p-value {p_val} is less than the significance level {alpha}, so we reject the null hypothesis.\")\n",
    "else:\n",
    "    print(f\"The p-value {p_val} is greater than the significance level {alpha}, so we fail to reject the null hypothesis.\")\n"
   ]
  },
  {
   "cell_type": "markdown",
   "id": "33311763-0d13-4897-b24a-bb1c53ca848e",
   "metadata": {},
   "source": [
    "#Ans3"
   ]
  },
  {
   "cell_type": "code",
   "execution_count": null,
   "id": "429ea0e0-4390-4fc7-a40b-302a009fa578",
   "metadata": {},
   "outputs": [],
   "source": [
    "import numpy as np\n",
    "from scipy.stats import chi2_contingency\n",
    "\n",
    "# Create the contingency table\n",
    "observed = np.array([[20, 15],\n",
    "                     [10, 25],\n",
    "                     [15, 20]])\n",
    "\n",
    "# Perform the chi-square test for independence\n",
    "chi2_stat, p_val, dof, expected = chi2_contingency(observed)\n",
    "\n",
    "# Print the results\n",
    "print(f\"Chi-square Statistic: {chi2_stat}\")\n",
    "print(f\"P-value: {p_val}\")\n",
    "print(f\"Degrees of Freedom: {dof}\")\n",
    "print(\"Expected Frequencies:\")\n",
    "print(expected)\n"
   ]
  },
  {
   "cell_type": "markdown",
   "id": "c1574e28-eb73-4f9e-a22a-9e5579d5e6b6",
   "metadata": {},
   "source": [
    "#Ans.4"
   ]
  },
  {
   "cell_type": "markdown",
   "id": "e0a04dbd-31c4-4189-bc32-2868684f4ece",
   "metadata": {},
   "source": [
    "To calculate the confidence interval for the true proportion of individuals who smoke, we can use the formula for the confidence interval of a proportion: \n",
    "\n",
    "^p+_z root(^p(1-p^)/n)\n",
    "\n",
    "where:\n",
    "\n",
    "\n",
    "^\n",
    "p  is the sample proportion of individuals who smoke.\n",
    "\n",
    "z is the z-score corresponding to the desired confidence level.\n",
    "\n",
    "n is the sample size.\n",
    "In this case, \n",
    "\n",
    "^\n",
    "p = x/n = 60/500\n",
    " =0.12 (since 60 out of 500 individuals smoke).\n",
    "\n",
    "We'll use \n",
    "\n",
    "z=1.96 for a 95% confidence interval."
   ]
  },
  {
   "cell_type": "code",
   "execution_count": null,
   "id": "ed4b6dae-835a-4ec2-ae29-b9d493cf7f7f",
   "metadata": {},
   "outputs": [],
   "source": [
    "import scipy.stats as stats\n",
    "import math\n",
    "\n",
    "# Given data\n",
    "sample_proportion = 60 / 500\n",
    "confidence_level = 0.95\n",
    "sample_size = 500\n",
    "\n",
    "# Calculate the z-score\n",
    "z = stats.norm.ppf(1 - (1 - confidence_level) / 2)\n",
    "\n",
    "# Calculate the margin of error\n",
    "margin_of_error = z * math.sqrt((sample_proportion * (1 - sample_proportion)) / sample_size)\n",
    "\n",
    "# Calculate the confidence interval\n",
    "lower_bound = sample_proportion - margin_of_error\n",
    "upper_bound = sample_proportion + margin_of_error\n",
    "\n",
    "# Print the confidence interval\n",
    "print(f\"95% Confidence Interval: ({lower_bound:.4f}, {upper_bound:.4f})\")\n"
   ]
  },
  {
   "cell_type": "markdown",
   "id": "6ed7d2e8-ae5f-4410-acb0-705577fe8d83",
   "metadata": {},
   "source": [
    "#Ans.5"
   ]
  },
  {
   "cell_type": "code",
   "execution_count": null,
   "id": "39282063-ffad-4165-a517-a2e5db049f50",
   "metadata": {},
   "outputs": [],
   "source": [
    "import scipy.stats as stats\n",
    "import math\n",
    "\n",
    "# Given data\n",
    "mean = 75\n",
    "standard_deviation = 12\n",
    "confidence_level = 0.90\n",
    "sample_size = None  # Since we don't have the sample size, it won't be used in the calculation.\n",
    "\n",
    "# Calculate the Z-Score for a 90% confidence interval\n",
    "z = stats.norm.ppf(1 - (1 - confidence_level) / 2)\n",
    "\n",
    "# Calculate the margin of error\n",
    "margin_of_error = z * (standard_deviation / math.sqrt(sample_size))\n",
    "\n",
    "# Calculate the confidence interval\n",
    "lower_bound = mean - margin_of_error\n",
    "upper_bound = mean + margin_of_error\n",
    "\n",
    "# Print the confidence interval\n",
    "print(f\"90% Confidence Interval: ({lower_bound:.4f}, {upper_bound:.4f})\")\n"
   ]
  },
  {
   "cell_type": "markdown",
   "id": "79641b1a-1ba5-4352-b700-57e0b56be3dc",
   "metadata": {},
   "source": [
    "#Ans.6"
   ]
  },
  {
   "cell_type": "code",
   "execution_count": null,
   "id": "6f47ef6e-b082-4dc0-8d05-96b59b7a8ab7",
   "metadata": {},
   "outputs": [],
   "source": [
    "import matplotlib.pyplot as plt\n",
    "import numpy as np\n",
    "from scipy.stats import chi2\n",
    "\n",
    "# Define the degrees of freedom and chi-square statistic\n",
    "df = 10\n",
    "chi_square_statistic = 15\n",
    "\n",
    "# Generate x values\n",
    "x = np.linspace(0, 30, 1000)\n",
    "\n",
    "# Generate the chi-square probability density function (PDF)\n",
    "pdf = chi2.pdf(x, df)\n",
    "\n",
    "# Plot the chi-square distribution\n",
    "plt.plot(x, pdf, label=f'df = {df}')\n",
    "\n",
    "# Shade the area corresponding to chi-square statistic of 15\n",
    "x_shade = np.linspace(chi_square_statistic, 30, 100)\n",
    "y_shade = chi2.pdf(x_shade, df)\n",
    "plt.fill_between(x_shade, y_shade, color='gray', alpha=0.5, label=f'Chi-square Statistic = {chi_square_statistic}')\n",
    "\n",
    "# Label the axes\n",
    "plt.xlabel('Chi-square Value')\n",
    "plt.ylabel('Probability Density')\n",
    "\n",
    "# Add legend\n",
    "plt.legend()\n",
    "\n",
    "# Show the plot\n",
    "plt.show()\n"
   ]
  },
  {
   "cell_type": "markdown",
   "id": "724b4b97-5e82-4b45-8cbf-bcb74c705e46",
   "metadata": {},
   "source": [
    "#Ans.7"
   ]
  },
  {
   "cell_type": "code",
   "execution_count": null,
   "id": "4b37da3a-e349-4eb3-a4ea-0e801cfd85c6",
   "metadata": {},
   "outputs": [],
   "source": [
    "import scipy.stats as stats\n",
    "import math\n",
    "\n",
    "# Given data\n",
    "sample_proportion = 520 / 1000\n",
    "confidence_level = 0.99\n",
    "sample_size = 1000\n",
    "\n",
    "# Calculate the Z-Score for a 99% confidence interval\n",
    "z = stats.norm.ppf(1 - (1 - confidence_level) / 2)\n",
    "\n",
    "# Calculate the margin of error\n",
    "margin_of_error = z * math.sqrt((sample_proportion * (1 - sample_proportion)) / sample_size)\n",
    "\n",
    "# Calculate the confidence interval\n",
    "lower_bound = sample_proportion - margin_of_error\n",
    "upper_bound = sample_proportion + margin_of_error\n",
    "\n",
    "# Print the confidence interval\n",
    "print(f\"99% Confidence Interval: ({lower_bound:.4f}, {upper_bound:.4f})\")\n"
   ]
  },
  {
   "cell_type": "markdown",
   "id": "2008fbdd-eaf7-4da2-b2c0-d13da3f4ff40",
   "metadata": {},
   "source": [
    "#Ans.8"
   ]
  },
  {
   "cell_type": "markdown",
   "id": "b973b828-8539-437c-b910-afee139ba682",
   "metadata": {},
   "source": [
    "\n",
    "To conduct a chi-square goodness of fit test for this scenario, we'll compare the observed frequencies with the expected frequencies assuming a fair coin.\n",
    "\n",
    "In this case, we'll consider a fair coin as having a 50% chance of landing on either heads or tails.\n",
    "\n",
    "The null hypothesis (Ho) is that the coin is fair, so the expected frequencies for heads and tails are both 50%.\n",
    "\n",
    "The alternative hypothesis (H1) is that the coin is biased towards tails.\n",
    "\n",
    "The chi-square test statistic is calculated as follows:\n",
    "\n",
    "x square = sigma(0-E)square/E\n",
    "Where:\n",
    "\n",
    ".O is the observed frequency\n",
    "\n",
    ".E is the expected frequency"
   ]
  },
  {
   "cell_type": "code",
   "execution_count": null,
   "id": "44fa460b-1252-453c-ae57-487ec0e22d5a",
   "metadata": {},
   "outputs": [],
   "source": [
    "import scipy.stats as stats\n",
    "\n",
    "# Given data\n",
    "observed_tails = 45\n",
    "expected_tails = 50\n",
    "total_flips = 100\n",
    "\n",
    "# Calculate observed heads\n",
    "observed_heads = total_flips - observed_tails\n",
    "expected_heads = total_flips / 2\n",
    "\n",
    "# Create observed and expected frequency arrays\n",
    "observed_freq = np.array([observed_heads, observed_tails])\n",
    "expected_freq = np.array([expected_heads, expected_tails])\n",
    "\n",
    "# Perform the chi-square goodness of fit test\n",
    "chi2_stat, p_val = stats.chisquare(observed_freq, expected_freq)\n",
    "\n",
    "# Define the significance level\n",
    "alpha = 0.05\n",
    "\n",
    "# Compare p-value to significance level\n",
    "if p_val < alpha:\n",
    "    print(f\"The p-value {p_val} is less than the significance level {alpha}, so we reject the null hypothesis.\")\n",
    "else:\n",
    "    print(f\"The p-value {p_val} is greater than the significance level {alpha}, so we fail to reject the null hypothesis.\")\n"
   ]
  },
  {
   "cell_type": "markdown",
   "id": "28e5332c-5e31-4d6f-be52-1e265830290c",
   "metadata": {},
   "source": [
    "#Ans.9"
   ]
  },
  {
   "cell_type": "code",
   "execution_count": null,
   "id": "3b5bd4ed-67f6-4065-8c12-d5b1bd2db7c8",
   "metadata": {},
   "outputs": [],
   "source": [
    "import numpy as np\n",
    "from scipy.stats import chi2_contingency\n",
    "\n",
    "# Create the observed contingency table\n",
    "observed = np.array([[60, 140],\n",
    "                     [30, 170]])\n",
    "\n",
    "# Perform the chi-square test for independence\n",
    "chi2_stat, p_val, dof, expected = chi2_contingency(observed)\n",
    "\n",
    "# Print the results\n",
    "print(f\"Chi-square Statistic: {chi2_stat}\")\n",
    "print(f\"P-value: {p_val}\")\n",
    "print(f\"Degrees of Freedom: {dof}\")\n",
    "print(\"Expected Frequencies:\")\n",
    "print(expected)\n"
   ]
  },
  {
   "cell_type": "markdown",
   "id": "f69d7315-7bb5-4251-90e9-960a57378c9b",
   "metadata": {},
   "source": [
    "#Ans.10"
   ]
  },
  {
   "cell_type": "code",
   "execution_count": null,
   "id": "e7a72483-bdfd-40a9-81af-a47b3649c6f1",
   "metadata": {},
   "outputs": [],
   "source": [
    "import numpy as np\n",
    "from scipy.stats import chi2_contingency\n",
    "\n",
    "# Create the observed contingency table\n",
    "observed = np.array([[200, 150, 150],\n",
    "                     [225, 175, 100]])\n",
    "\n",
    "# Perform the chi-square test for independence\n",
    "chi2_stat, p_val, dof, expected = chi2_contingency(observed)\n",
    "\n",
    "# Print the results\n",
    "print(f\"Chi-square Statistic: {chi2_stat}\")\n",
    "print(f\"P-value: {p_val}\")\n",
    "print(f\"Degrees of Freedom: {dof}\")\n",
    "print(\"Expected Frequencies:\")\n",
    "print(expected)\n"
   ]
  },
  {
   "cell_type": "markdown",
   "id": "ea45a582-5432-4107-8b93-1de85f0c9fc1",
   "metadata": {},
   "source": [
    "#Ans.11"
   ]
  },
  {
   "cell_type": "markdown",
   "id": "a11a8249-dbbc-432d-839e-e5e21c34f87c",
   "metadata": {},
   "source": [
    " A random sample of 30 people was selected from a population with an unknown mean and standard\n",
    "deviation. The sample mean was found to be 72 and the sample standard deviation was found to be 10.\n",
    "Conduct a hypothesis test to determine if the population mean is significantly different from 70. Use a\n",
    "significance level of 0.05."
   ]
  },
  {
   "cell_type": "code",
   "execution_count": null,
   "id": "791433d5-581e-4e8e-ab89-b27b3af9af1a",
   "metadata": {},
   "outputs": [],
   "source": []
  }
 ],
 "metadata": {
  "kernelspec": {
   "display_name": "Python 3 (ipykernel)",
   "language": "python",
   "name": "python3"
  },
  "language_info": {
   "codemirror_mode": {
    "name": "ipython",
    "version": 3
   },
   "file_extension": ".py",
   "mimetype": "text/x-python",
   "name": "python",
   "nbconvert_exporter": "python",
   "pygments_lexer": "ipython3",
   "version": "3.10.8"
  }
 },
 "nbformat": 4,
 "nbformat_minor": 5
}
